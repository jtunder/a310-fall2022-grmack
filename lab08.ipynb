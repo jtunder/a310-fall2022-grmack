{
  "nbformat": 4,
  "nbformat_minor": 0,
  "metadata": {
    "colab": {
      "provenance": [],
      "authorship_tag": "ABX9TyOTQUzR6GroVVqYVkyf/esT",
      "include_colab_link": true
    },
    "kernelspec": {
      "name": "python3",
      "display_name": "Python 3"
    },
    "language_info": {
      "name": "python"
    }
  },
  "cells": [
    {
      "cell_type": "markdown",
      "metadata": {
        "id": "view-in-github",
        "colab_type": "text"
      },
      "source": [
        "<a href=\"https://colab.research.google.com/github/jtunder/a310-fall2022-grmack/blob/main/lab08.ipynb\" target=\"_parent\"><img src=\"https://colab.research.google.com/assets/colab-badge.svg\" alt=\"Open In Colab\"/></a>"
      ]
    },
    {
      "cell_type": "code",
      "execution_count": 1,
      "metadata": {
        "colab": {
          "base_uri": "https://localhost:8080/"
        },
        "id": "L2-LrffduONx",
        "outputId": "7178153a-75ba-478e-b59e-977a5d95de5d"
      },
      "outputs": [
        {
          "output_type": "stream",
          "name": "stdout",
          "text": [
            "a: [1 2 3]\n",
            "b: [[1 2]\n",
            " [3 4]]\n",
            "c: [[[1 2]\n",
            "  [3 4]]\n",
            "\n",
            " [[5 6]\n",
            "  [7 8]]]\n"
          ]
        }
      ],
      "source": [
        "import numpy as np\n",
        "#numpy allows for you to manipulate, visualize, and analyze arrays\n",
        "# Creating a 1D array from a list\n",
        "a = np.array([1, 2, 3])\n",
        "print(\"a:\" ,a)\n",
        "# Creating a 2D array from a list of lists\n",
        "b = np.array([[1, 2],\n",
        " [3, 4]])\n",
        "print(\"b:\" ,b)\n",
        "# Creating a 3D array from a list of lists of lists\n",
        "c = np.array([[[1, 2], [3, 4]],\n",
        " [[5, 6], [7, 8]]])\n",
        "print(\"c:\" ,c)"
      ]
    },
    {
      "cell_type": "code",
      "source": [
        "a = np.array([[1, 0, 0],\n",
        "  [1, 1, 1],\n",
        "  [2, 0, 0]])\n",
        "b = np.array([[1, 1, 1],\n",
        "  [1, 1, 2],\n",
        "  [1, 1, 2]])\n",
        "print(a + b)\n",
        "\n",
        "print(a - b)\n",
        "#I do not trust that this is proper matrix multiplication\n",
        "print(a * b)\n",
        "\n",
        "print(a / b)"
      ],
      "metadata": {
        "id": "NTCBD40aytFa",
        "colab": {
          "base_uri": "https://localhost:8080/"
        },
        "outputId": "4f902445-ffd6-42ba-8fb1-cd72fb3be6ec"
      },
      "execution_count": 4,
      "outputs": [
        {
          "output_type": "stream",
          "name": "stdout",
          "text": [
            "[[2 1 1]\n",
            " [2 2 3]\n",
            " [3 1 2]]\n",
            "[[ 0 -1 -1]\n",
            " [ 0  0 -1]\n",
            " [ 1 -1 -2]]\n",
            "[[1 0 0]\n",
            " [1 1 2]\n",
            " [2 0 0]]\n",
            "[[1.  0.  0. ]\n",
            " [1.  1.  0.5]\n",
            " [2.  0.  0. ]]\n"
          ]
        }
      ]
    },
    {
      "cell_type": "code",
      "source": [
        "print(np.max(a))\n",
        "print(np.min(a))\n",
        "print(np.average(a))"
      ],
      "metadata": {
        "colab": {
          "base_uri": "https://localhost:8080/"
        },
        "id": "nWlgJ6QRi4Bs",
        "outputId": "231ad90d-a889-41e8-a710-c8ea45686260"
      },
      "execution_count": 5,
      "outputs": [
        {
          "output_type": "stream",
          "name": "stdout",
          "text": [
            "2\n",
            "0\n",
            "0.6666666666666666\n"
          ]
        }
      ]
    },
    {
      "cell_type": "code",
      "source": [
        "## Data: yearly salary in ($1000) [2017, 2018, 2019]\n",
        "alice = [99, 101, 103]\n",
        "bob = [110, 108, 105]\n",
        "tim = [90, 88, 85]\n",
        "salaries = np.array([alice, bob, tim])\n",
        "taxation = np.array([[0.2, 0.25, 0.22],\n",
        " [0.4, 0.5, 0.5],\n",
        " [0.1, 0.2, 0.1]])\n",
        "## One-liner\n",
        "max_income = np.max(salaries - salaries * taxation)\n",
        "#print(salaries-salaries * taxation)\n",
        "## Result\n",
        "print(max_income)"
      ],
      "metadata": {
        "colab": {
          "base_uri": "https://localhost:8080/"
        },
        "id": "KLuFBBjVjkS-",
        "outputId": "7e59d935-9405-4d23-972b-b5e4f0124ada"
      },
      "execution_count": 8,
      "outputs": [
        {
          "output_type": "stream",
          "name": "stdout",
          "text": [
            "81.0\n"
          ]
        }
      ]
    },
    {
      "cell_type": "code",
      "source": [
        "# slice [start:end:step]\n",
        "# end isnt included\n",
        "a = np.array([55, 56, 57, 58, 59, 60, 61])\n",
        "print(a)\n",
        "print(a[:])\n",
        "print(a[2:])\n",
        "print(a[1:4])\n",
        "print(a[2:-2])\n",
        "print(a[::2])\n",
        "print(a[1::2])\n",
        "print(a[::-1])\n",
        "print(a[:1:-2])\n",
        "print(a[-1:1:-2])"
      ],
      "metadata": {
        "colab": {
          "base_uri": "https://localhost:8080/"
        },
        "id": "3MvZewaakHmi",
        "outputId": "5b63fdba-1fee-438c-e957-e8f7cbe24017"
      },
      "execution_count": 10,
      "outputs": [
        {
          "output_type": "stream",
          "name": "stdout",
          "text": [
            "[55 56 57 58 59 60 61]\n",
            "[55 56 57 58 59 60 61]\n",
            "[57 58 59 60 61]\n",
            "[56 57 58]\n",
            "[57 58 59]\n",
            "[55 57 59 61]\n",
            "[56 58 60]\n",
            "[61 60 59 58 57 56 55]\n",
            "[61 59 57]\n",
            "[61 59 57]\n"
          ]
        }
      ]
    },
    {
      "cell_type": "code",
      "source": [
        "# [row,col]\n",
        "# still follows same slicing\n",
        "a = np.array([[0, 1, 2, 3],\n",
        " [4, 5, 6, 7],\n",
        " [8, 9, 10, 11],\n",
        " [12, 13, 14, 15]])\n",
        "print(a[:, 2])\n",
        "print(a[1, :])\n",
        "print(a[1, ::2])\n",
        "print(a[:, :-1])\n",
        "print(a[:-2])"
      ],
      "metadata": {
        "colab": {
          "base_uri": "https://localhost:8080/"
        },
        "id": "CpPSJVh5kxmp",
        "outputId": "2f5798d4-eccc-469e-85c0-9a3b90ecb558"
      },
      "execution_count": 15,
      "outputs": [
        {
          "output_type": "stream",
          "name": "stdout",
          "text": [
            "[ 2  6 10 14]\n",
            "[4 5 6 7]\n",
            "[4 6]\n",
            "[[ 0  1  2]\n",
            " [ 4  5  6]\n",
            " [ 8  9 10]\n",
            " [12 13 14]]\n",
            "[[0 1 2 3]\n",
            " [4 5 6 7]]\n"
          ]
        }
      ]
    },
    {
      "cell_type": "code",
      "source": [
        "#finding number of dimensions\n",
        "a = np.array([1, 2, 3, 4])\n",
        "print(a.ndim)\n",
        "b = np.array([[2, 1, 2], [3, 2, 3], [4, 3, 4]])\n",
        "print(b.ndim)\n",
        "c = np.array([[[1, 2, 3], [2, 3, 4], [3, 4, 5]],\n",
        " [[1, 2, 4], [2, 3, 5], [3, 4, 6]]])\n",
        "print(c.ndim)"
      ],
      "metadata": {
        "colab": {
          "base_uri": "https://localhost:8080/"
        },
        "id": "3k0kJZvHmCC3",
        "outputId": "278dd0ea-84d4-49e0-dcfe-d513338b4d2c"
      },
      "execution_count": 18,
      "outputs": [
        {
          "output_type": "stream",
          "name": "stdout",
          "text": [
            "1\n",
            "2\n",
            "3\n"
          ]
        }
      ]
    },
    {
      "cell_type": "code",
      "source": [
        "a = np.array([1, 2, 3, 4])\n",
        "print(a)\n",
        "print(a.shape)\n",
        "\n",
        "b = np.array([[2, 1, 2], [3, 2, 3], [4, 3, 4]])\n",
        "print(b)\n",
        "print(b.shape)\n",
        "\n",
        "c = np.array([[[1, 2, 3], [2, 3, 4], [3, 4, 5]],\n",
        " [[1, 2, 4], [2, 3, 5], [3, 4, 6]]])\n",
        "print(c)\n",
        "print(c.shape)"
      ],
      "metadata": {
        "colab": {
          "base_uri": "https://localhost:8080/"
        },
        "id": "BvPv4rP0mbH3",
        "outputId": "706be1d6-083e-4c13-e19e-4b883fee7761"
      },
      "execution_count": 19,
      "outputs": [
        {
          "output_type": "stream",
          "name": "stdout",
          "text": [
            "[1 2 3 4]\n",
            "(4,)\n",
            "[[2 1 2]\n",
            " [3 2 3]\n",
            " [4 3 4]]\n",
            "(3, 3)\n",
            "[[[1 2 3]\n",
            "  [2 3 4]\n",
            "  [3 4 5]]\n",
            "\n",
            " [[1 2 4]\n",
            "  [2 3 5]\n",
            "  [3 4 6]]]\n",
            "(2, 3, 3)\n"
          ]
        }
      ]
    },
    {
      "cell_type": "code",
      "source": [
        "a = np.array([1, 2, 3, 4], dtype=np.int16)\n",
        "print(a) # [1 2 3 4]\n",
        "print(a.dtype) # int16\n",
        "b = np.array([1, 2, 3, 4], dtype=np.float64)\n",
        "print(b) # [1. 2. 3. 4.]\n",
        "print(b.dtype) # float64"
      ],
      "metadata": {
        "colab": {
          "base_uri": "https://localhost:8080/"
        },
        "id": "r-0IVhiKmoyc",
        "outputId": "80548313-d052-491d-bced-392990a2b925"
      },
      "execution_count": 20,
      "outputs": [
        {
          "output_type": "stream",
          "name": "stdout",
          "text": [
            "[1 2 3 4]\n",
            "int16\n",
            "[1. 2. 3. 4.]\n",
            "float64\n"
          ]
        }
      ]
    },
    {
      "cell_type": "code",
      "source": [
        "## Data: yearly salary in ($1000) [2025, 2026, 2027]\n",
        "dataScientist = [130, 132, 137]\n",
        "productManager = [127, 140, 145]\n",
        "designer = [118, 118, 127]\n",
        "softwareEngineer = [129, 131, 137]\n",
        "employees = np.array([dataScientist,\n",
        " productManager,\n",
        " designer,\n",
        " softwareEngineer])\n",
        "## One-liner\n",
        "employees[0,::2] = employees[0,::2] * 1.1\n",
        "## Result\n",
        "print(employees)"
      ],
      "metadata": {
        "colab": {
          "base_uri": "https://localhost:8080/"
        },
        "id": "VtMoTZo_mt_-",
        "outputId": "eaad8f78-f77e-4ec2-b15f-57fe95d47a00"
      },
      "execution_count": 21,
      "outputs": [
        {
          "output_type": "stream",
          "name": "stdout",
          "text": [
            "[[143 132 150]\n",
            " [127 140 145]\n",
            " [118 118 127]\n",
            " [129 131 137]]\n"
          ]
        }
      ]
    },
    {
      "cell_type": "code",
      "source": [
        "#nonzero finds indices of elements that arent 0\n",
        "# first array gives row seocnd gives columns\n",
        "X = np.array([[1, 0, 0],\n",
        " [0, 2, 2],\n",
        " [3, 0, 0]])\n",
        "print(np.nonzero(X))\n",
        "\n",
        "print(X == 2)"
      ],
      "metadata": {
        "colab": {
          "base_uri": "https://localhost:8080/"
        },
        "id": "eNdrab80nUBT",
        "outputId": "56064f8b-3d76-4479-c111-8c04d3931571"
      },
      "execution_count": 25,
      "outputs": [
        {
          "output_type": "stream",
          "name": "stdout",
          "text": [
            "(array([0, 1, 1, 2]), array([0, 1, 2, 0]))\n",
            "[[False False False]\n",
            " [False  True  True]\n",
            " [False False False]]\n"
          ]
        }
      ]
    },
    {
      "cell_type": "code",
      "source": [
        "## Data: air quality index AQI data (row = city)\n",
        "X = np.array(\n",
        " [[ 42, 40, 41, 43, 44, 43 ], # Hong Kong\n",
        " [ 30, 31, 29, 29, 29, 30 ], # New York\n",
        " [ 8, 13, 31, 11, 11, 9 ], # Berlin\n",
        " [ 11, 11, 12, 13, 11, 12 ]]) # Montreal\n",
        "cities = np.array([\"Hong Kong\", \"New York\", \"Berlin\", \"Montreal\"])\n",
        "## One-liner\n",
        "polluted = set(cities[np.nonzero(X > np.average(X))[0]])\n",
        "## Result\n",
        "print(polluted)"
      ],
      "metadata": {
        "colab": {
          "base_uri": "https://localhost:8080/"
        },
        "id": "XGAFgTk1nj7Z",
        "outputId": "209902c4-140c-4c0b-c3bb-fadcfefd25b7"
      },
      "execution_count": 26,
      "outputs": [
        {
          "output_type": "stream",
          "name": "stdout",
          "text": [
            "{'Hong Kong', 'New York', 'Berlin'}\n"
          ]
        }
      ]
    },
    {
      "cell_type": "code",
      "source": [
        "a = np.array([[1, 2, 3],\n",
        " [4, 5, 6],\n",
        " [7, 8, 9]])\n",
        "indices = np.array([[False, False, True],\n",
        " [False, False, False],\n",
        " [True, True, False]])\n",
        "print(a[indices])"
      ],
      "metadata": {
        "colab": {
          "base_uri": "https://localhost:8080/"
        },
        "id": "HreMO90YofQW",
        "outputId": "e0eed86d-b22f-41a4-c583-4eb991835536"
      },
      "execution_count": 27,
      "outputs": [
        {
          "output_type": "stream",
          "name": "stdout",
          "text": [
            "[3 7 8]\n"
          ]
        }
      ]
    },
    {
      "cell_type": "code",
      "source": [
        "## Data: popular Instagram accounts (millions followers)\n",
        "inst = np.array([[232, \"@instagram\"],\n",
        " [133, \"@selenagomez\"],\n",
        " [59, \"@victoriassecret\"],\n",
        " [120, \"@cristiano\"],\n",
        " [111, \"@beyonce\"],\n",
        " [76, \"@nike\"]])\n",
        "## One-liner\n",
        "superstars = inst[inst[:,0].astype(float) > 100, 1]\n",
        "## Results\n",
        "print(superstars)"
      ],
      "metadata": {
        "colab": {
          "base_uri": "https://localhost:8080/"
        },
        "id": "L8GQTpCQpcdY",
        "outputId": "00760218-ce61-491a-eb2a-7c08924bd079"
      },
      "execution_count": 28,
      "outputs": [
        {
          "output_type": "stream",
          "name": "stdout",
          "text": [
            "['@instagram' '@selenagomez' '@cristiano' '@beyonce']\n"
          ]
        }
      ]
    },
    {
      "cell_type": "code",
      "source": [
        "a = np.array([4] * 16)\n",
        "print(a)\n",
        "a[1:8:2] = 16\n",
        "print(a)"
      ],
      "metadata": {
        "colab": {
          "base_uri": "https://localhost:8080/"
        },
        "id": "kfdWfoenpfmM",
        "outputId": "4a982a6e-8ca4-4520-e024-07375bc7983f"
      },
      "execution_count": 32,
      "outputs": [
        {
          "output_type": "stream",
          "name": "stdout",
          "text": [
            "[4 4 4 4 4 4 4 4 4 4 4 4 4 4 4 4]\n",
            "[ 4 16  4 16  4 16  4 16  4  4  4  4  4  4  4  4]\n"
          ]
        }
      ]
    },
    {
      "cell_type": "code",
      "source": [
        "a = np.array([1, 2, 3, 4, 5, 6])\n",
        "print(a.reshape((2, 3)))"
      ],
      "metadata": {
        "colab": {
          "base_uri": "https://localhost:8080/"
        },
        "id": "MjMmR7yJqRJD",
        "outputId": "0be27945-68a8-4152-d1cc-c9bf2bb4a7d7"
      },
      "execution_count": 34,
      "outputs": [
        {
          "output_type": "stream",
          "name": "stdout",
          "text": [
            "[[1 2 3]\n",
            " [4 5 6]]\n"
          ]
        }
      ]
    },
    {
      "cell_type": "code",
      "source": [
        "a = np.array([1, 2, 3, 4, 5, 6])\n",
        "print(a.reshape((3, -1)))"
      ],
      "metadata": {
        "colab": {
          "base_uri": "https://localhost:8080/"
        },
        "id": "O3un1kUvqUn4",
        "outputId": "5eeb156f-8654-448b-e010-57ba997ea9bd"
      },
      "execution_count": 38,
      "outputs": [
        {
          "output_type": "stream",
          "name": "stdout",
          "text": [
            "[[1 2]\n",
            " [3 4]\n",
            " [5 6]]\n"
          ]
        }
      ]
    },
    {
      "cell_type": "code",
      "source": [
        "## Sensor data (Mo, Tu, We, Th, Fr, Sa, Su)\n",
        "tmp = np.array([1, 2, 3, 4, 3, 4, 4,\n",
        " 5, 3, 3, 4, 3, 4, 6,\n",
        " 6, 5, 5, 5, 4, 5, 5])\n",
        "## One-liner\n",
        "tmp[6::7] = np.average(tmp.reshape((-1,7)), axis=1)\n",
        "#print(np.average(tmp.reshape((-1,7)), axis=1))\n",
        "## Result\n",
        "print(tmp)"
      ],
      "metadata": {
        "colab": {
          "base_uri": "https://localhost:8080/"
        },
        "id": "YUGOswKXqdSl",
        "outputId": "1f07ce78-abf5-4253-d0b4-dfff801c6a7d"
      },
      "execution_count": 41,
      "outputs": [
        {
          "output_type": "stream",
          "name": "stdout",
          "text": [
            "[1 2 3 4 3 4 3 5 3 3 4 3 4 4 6 5 5 5 4 5 5]\n"
          ]
        }
      ]
    },
    {
      "cell_type": "code",
      "source": [
        "a = np.array([10, 6, 8, 2, 5, 4, 9, 1])\n",
        "# sort will actually sort the array\n",
        "print(np.sort(a))\n",
        "# argsort will create a new array with the original index values after sorting\n",
        "# ex 1 was in the 7th position so 7 is the first element in argsort\n",
        "print(np.argsort(a))"
      ],
      "metadata": {
        "colab": {
          "base_uri": "https://localhost:8080/"
        },
        "id": "fCQ7GS_Kqlm8",
        "outputId": "d17e4118-2054-4de5-fcfd-1694dd29ce99"
      },
      "execution_count": 44,
      "outputs": [
        {
          "output_type": "stream",
          "name": "stdout",
          "text": [
            "[ 1  2  4  5  6  8  9 10]\n",
            "[7 3 5 4 1 2 6 0]\n"
          ]
        }
      ]
    },
    {
      "cell_type": "code",
      "source": [
        "a = np.array([[1, 6, 2],\n",
        " [5, 1, 1],\n",
        " [8, 0, 1]])\n",
        "#axis 0 is down the rows\n",
        "#axis 1 is across the col\n",
        "print(np.sort(a, axis=0))\n",
        "print(np.sort(a, axis=1))"
      ],
      "metadata": {
        "colab": {
          "base_uri": "https://localhost:8080/"
        },
        "id": "0Y8jt78Jrjyy",
        "outputId": "5e565c3d-555b-4278-8d00-69467bd7bbe5"
      },
      "execution_count": 47,
      "outputs": [
        {
          "output_type": "stream",
          "name": "stdout",
          "text": [
            "[[1 0 1]\n",
            " [5 1 1]\n",
            " [8 6 2]]\n",
            "[[1 2 6]\n",
            " [1 1 5]\n",
            " [0 1 8]]\n"
          ]
        }
      ]
    },
    {
      "cell_type": "code",
      "source": [
        "## Data: SAT scores for different students\n",
        "sat_scores = np.array([1100, 1256, 1543, 1043, 989, 1412, 1343])\n",
        "students = np.array([\"John\", \"Bob\", \"Alice\", \"Joe\", \"Jane\", \"Frank\", \"Carl\"])\n",
        "## One-liner\n",
        "top_3 = students[np.argsort(sat_scores)][:-4:-1]\n",
        "#print(np.argsort(sat_scores))\n",
        "## Result\n",
        "print(top_3)"
      ],
      "metadata": {
        "colab": {
          "base_uri": "https://localhost:8080/"
        },
        "id": "MVYw8GHOsIXM",
        "outputId": "6e810314-e56e-494e-cfbc-3e43da1cdefc"
      },
      "execution_count": 51,
      "outputs": [
        {
          "output_type": "stream",
          "name": "stdout",
          "text": [
            "['Alice' 'Frank' 'Carl']\n"
          ]
        }
      ]
    },
    {
      "cell_type": "code",
      "source": [
        "import matplotlib.pyplot as plt\n",
        "sequence = np.random.normal(10.0, 1.0, 500)\n",
        "#print(sequence)\n",
        "plt.xkcd()\n",
        "plt.hist(sequence)\n",
        "plt.annotate(r\"$\\omega_1=9$\", (9, 70))\n",
        "plt.annotate(r\"$\\omega_2=11$\", (11, 70))\n",
        "plt.annotate(r\"$\\mu=10$\", (10, 90))\n",
        "plt.savefig(\"plot.jpg\")\n",
        "plt.show()"
      ],
      "metadata": {
        "colab": {
          "base_uri": "https://localhost:8080/",
          "height": 271
        },
        "id": "pmweKRHttUBi",
        "outputId": "901e485c-9b90-45a8-cea8-6b18560d1353"
      },
      "execution_count": 53,
      "outputs": [
        {
          "output_type": "display_data",
          "data": {
            "text/plain": [
              "<Figure size 432x288 with 1 Axes>"
            ],
            "image/png": "[encoded data removed]"
          },
          "metadata": {}
        }
      ]
    },
    {
      "cell_type": "code",
      "source": [
        "a = np.array([1, -1, 2, -2])\n",
        "print(a)\n",
        "print(np.abs(a))"
      ],
      "metadata": {
        "colab": {
          "base_uri": "https://localhost:8080/"
        },
        "id": "RYnGUVz5trAT",
        "outputId": "020c7712-13fc-45c6-a86a-5ed617bcde13"
      },
      "execution_count": 54,
      "outputs": [
        {
          "output_type": "stream",
          "name": "stdout",
          "text": [
            "[ 1 -1  2 -2]\n",
            "[1 1 2 2]\n"
          ]
        }
      ]
    },
    {
      "cell_type": "code",
      "source": [
        "a = np.array([True, True, True, False])\n",
        "b = np.array([False, True, True, False])\n",
        "print(np.logical_and(a, b))"
      ],
      "metadata": {
        "colab": {
          "base_uri": "https://localhost:8080/"
        },
        "id": "ZM_PIx46t2zO",
        "outputId": "c360f6c4-94fa-4650-dc10-8986d38ff509"
      },
      "execution_count": 55,
      "outputs": [
        {
          "output_type": "stream",
          "name": "stdout",
          "text": [
            "[False  True  True False]\n"
          ]
        }
      ]
    },
    {
      "cell_type": "code",
      "source": [
        "## Website analytics data:\n",
        "## (row = day), (col = users, bounce, duration)\n",
        "a = np.array([[815, 70, 115],\n",
        " [767, 80, 50],\n",
        " [912, 74, 77],\n",
        " [554, 88, 70],\n",
        " [1008, 65, 128]])\n",
        "mean, stdev = np.mean(a, axis=0), np.std(a, axis=0)\n",
        "# [811.2 76.4 88. ], [152.97764543 6.85857128 29.04479299]\n",
        "## One-liner\n",
        "outliers = ((np.abs(a[:,0] - mean[0]) > stdev[0])\n",
        " * (np.abs(a[:,1] - mean[1]) > stdev[1])\n",
        " * (np.abs(a[:,2] - mean[2]) > stdev[2]))\n",
        "## Result\n",
        "print(a[outliers])"
      ],
      "metadata": {
        "colab": {
          "base_uri": "https://localhost:8080/"
        },
        "id": "2I8L_MKSt_2O",
        "outputId": "af42dff5-34a4-457f-9517-6168e29102c7"
      },
      "execution_count": 56,
      "outputs": [
        {
          "output_type": "stream",
          "name": "stdout",
          "text": [
            "[[1008   65  128]]\n"
          ]
        }
      ]
    },
    {
      "cell_type": "code",
      "source": [
        "## Data: row is customer shopping basket\n",
        "## row = [course 1, course 2, ebook 1, ebook 2]\n",
        "## value 1 indicates that an item was bought.\n",
        "basket = np.array([[0, 1, 1, 0],\n",
        " [0, 0, 0, 1],\n",
        " [1, 1, 0, 0],\n",
        " [0, 1, 1, 1],\n",
        " [1, 1, 1, 0],\n",
        " [0, 1, 1, 0],\n",
        " [1, 1, 0, 1],\n",
        " [1, 1, 1, 1]])\n",
        "## One-liner\n",
        "copurchases = np.sum(np.all(basket[:,2:], axis = 1)) / basket.shape[0]\n",
        "## Result\n",
        "print(copurchases)"
      ],
      "metadata": {
        "colab": {
          "base_uri": "https://localhost:8080/"
        },
        "id": "lUJuTL_YuE4z",
        "outputId": "ec20044c-2c6b-49fe-8cb4-764c8093b4af"
      },
      "execution_count": 57,
      "outputs": [
        {
          "output_type": "stream",
          "name": "stdout",
          "text": [
            "0.25\n"
          ]
        }
      ]
    },
    {
      "cell_type": "code",
      "source": [
        "## Dependencies\n",
        "import numpy as np\n",
        "## Data: row is customer shopping basket\n",
        "## row = [course 1, course 2, ebook 1, ebook 2]\n",
        "## value 1 indicates that an item was bought.\n",
        "basket = np.array([[0, 1, 1, 0],\n",
        " [0, 0, 0, 1],\n",
        " [1, 1, 0, 0],\n",
        " [0, 1, 1, 1],\n",
        " [1, 1, 1, 0],\n",
        " [0, 1, 1, 0],\n",
        " [1, 1, 0, 1],\n",
        " [1, 1, 1, 1]])\n",
        "## One-liner (broken down in two lines;)\n",
        "copurchases = [(i,j,np.sum(basket[:,i] + basket[:,j] == 2))\n",
        "                  for i in range(4) for j in range(i+1,4)]\n",
        "## Result\n",
        "print(max(copurchases, key=lambda x:x[2]))"
      ],
      "metadata": {
        "colab": {
          "base_uri": "https://localhost:8080/"
        },
        "id": "uNb2ZfxLuLSc",
        "outputId": "d7d7426a-fcad-470b-b996-901d5756996f"
      },
      "execution_count": 59,
      "outputs": [
        {
          "output_type": "stream",
          "name": "stdout",
          "text": [
            "(1, 2, 5)\n"
          ]
        }
      ]
    }
  ]
}