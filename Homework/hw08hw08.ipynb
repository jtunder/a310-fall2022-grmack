{
  "nbformat": 4,
  "nbformat_minor": 0,
  "metadata": {
    "colab": {
      "provenance": [],
      "authorship_tag": "ABX9TyN0ld73BEhC9gesWZMiiZZE",
      "include_colab_link": true
    },
    "kernelspec": {
      "name": "python3",
      "display_name": "Python 3"
    },
    "language_info": {
      "name": "python"
    }
  },
  "cells": [
    {
      "cell_type": "markdown",
      "metadata": {
        "id": "view-in-github",
        "colab_type": "text"
      },
      "source": [
        "<a href=\"https://colab.research.google.com/github/jtunder/a310-fall2022-grmack/blob/main/Homework/hw08hw08.ipynb\" target=\"_parent\"><img src=\"https://colab.research.google.com/assets/colab-badge.svg\" alt=\"Open In Colab\"/></a>"
      ]
    },
    {
      "cell_type": "markdown",
      "source": [
        "**HW8: Chapter 5 Mayer and Chapter 7 Sweigart**"
      ],
      "metadata": {
        "id": "328GEY2-cgUR"
      }
    },
    {
      "cell_type": "code",
      "execution_count": 1,
      "metadata": {
        "colab": {
          "base_uri": "https://localhost:8080/"
        },
        "id": "IFNRdcUoFAes",
        "outputId": "296e716f-6bef-404e-9bfa-ddf4a3553ab7"
      },
      "outputs": [
        {
          "output_type": "stream",
          "name": "stdout",
          "text": [
            "['chain', 'chain']\n"
          ]
        }
      ],
      "source": [
        "#Chapter 5 Mayer - Regular Expressions\n",
        "\n",
        "import re\n",
        "\n",
        "text = '''A blockchain, originally block chain,\n",
        "is a growing list of records, called blocks,\n",
        "which are linked using cryptography.\n",
        "'''\n",
        "#findall will find everything that matches the expression given\n",
        "#the dot regex matches any character even white space\n",
        "# this will basically will just print all occurances of ch and the three following characters\n",
        "print(re.findall('ch..n', text))"
      ]
    },
    {
      "cell_type": "code",
      "source": [
        "#asterick modifies the meaning of another regex aka it cant be on its own\n",
        "#it allows for any amount of characters between the designated characters \"ch\" and \"n\"\n",
        "print(re.findall('ch.*n', text))"
      ],
      "metadata": {
        "colab": {
          "base_uri": "https://localhost:8080/"
        },
        "id": "7vVn-iciaPCK",
        "outputId": "ec3a2721-2622-4886-9697-ea8820451a03"
      },
      "execution_count": 2,
      "outputs": [
        {
          "output_type": "stream",
          "name": "stdout",
          "text": [
            "['chain, originally block chain', 'ch are linked usin']\n"
          ]
        }
      ]
    },
    {
      "cell_type": "code",
      "source": [
        "#also combines with another regex and says that the characters are optional\n",
        "print(re.findall('c?k?chain', text))"
      ],
      "metadata": {
        "colab": {
          "base_uri": "https://localhost:8080/"
        },
        "id": "SCdtCvKVcfmK",
        "outputId": "80f44b1e-32e1-44bb-819c-dd576ee0b550"
      },
      "execution_count": 3,
      "outputs": [
        {
          "output_type": "stream",
          "name": "stdout",
          "text": [
            "['ckchain', 'chain']\n"
          ]
        }
      ]
    },
    {
      "cell_type": "code",
      "source": [
        "txt = '<div>hello world</div>'\n",
        "#further example\n",
        "print(re.findall('<.*>', txt))\n",
        "print(re.findall('<.*?>', txt))\n",
        "\n",
        "print(\"--------------------\")\n",
        "\n",
        "text = 'peter piper picked a peck of pickled peppers'\n",
        "result = re.findall('p.*?e.*?r', text)\n",
        "## should print ['peter','piper', 'peck of pickled peppers']\n",
        "print(result)"
      ],
      "metadata": {
        "colab": {
          "base_uri": "https://localhost:8080/"
        },
        "id": "PdajMit9dqHH",
        "outputId": "c83275dd-8e6f-4a2d-8aef-b4beaf12c309"
      },
      "execution_count": 4,
      "outputs": [
        {
          "output_type": "stream",
          "name": "stdout",
          "text": [
            "['<div>hello world</div>']\n",
            "['<div>', '</div>']\n",
            "--------------------\n",
            "['peter', 'piper', 'picked a peck of pickled pepper']\n"
          ]
        }
      ]
    },
    {
      "cell_type": "code",
      "source": [
        "text_1 = \"crypto-bot that is trading Bitcoin and other currencies\"\n",
        "text_2 = \"cryptographic encryption methods that can be cracked easily with quantum computers\"\n",
        "#() matches whatever characters are inbetween\n",
        "pattern = re.compile(\"crypto(.{1,30})coin\")\n",
        "## Result\n",
        "print(pattern.match(text_1))\n",
        "# even if I add coin to the end of text 2 it will still return none because crypto and coin are more than 30 characters apart\n",
        "print(pattern.match(text_2))"
      ],
      "metadata": {
        "colab": {
          "base_uri": "https://localhost:8080/"
        },
        "id": "37-xDgIYd3wY",
        "outputId": "a565729b-829d-4de6-acb9-7655136d464e"
      },
      "execution_count": 5,
      "outputs": [
        {
          "output_type": "stream",
          "name": "stdout",
          "text": [
            "<re.Match object; span=(0, 34), match='crypto-bot that is trading Bitcoin'>\n",
            "None\n"
          ]
        }
      ]
    },
    {
      "cell_type": "code",
      "source": [
        "text = '''\n",
        "\"One can never have enough socks\", said Dumbledore.\n",
        "\"Another Christmas has come and gone and I didn't\n",
        "get a single pair. People will insist on giving me books.\"\n",
        "Christmas Quote\n",
        "'''\n",
        "regex = 'Christ.*'\n",
        "#this is looking for matches and becasue regex doesnt have an end expression it finds no matches\n",
        "print(re.match(regex, text))\n",
        "\n",
        "# this looks for the first occurence\n",
        "print(re.search(regex, text))\n",
        "\n",
        "#this just finds all occurences\n",
        "print(re.findall(regex, text))"
      ],
      "metadata": {
        "colab": {
          "base_uri": "https://localhost:8080/"
        },
        "id": "v_dJf1OdgY2b",
        "outputId": "74adb07d-daee-45a6-bc24-bf59c22b3102"
      },
      "execution_count": 6,
      "outputs": [
        {
          "output_type": "stream",
          "name": "stdout",
          "text": [
            "None\n",
            "<re.Match object; span=(62, 102), match=\"Christmas has come and gone and I didn't\">\n",
            "[\"Christmas has come and gone and I didn't\", 'Christmas Quote']\n"
          ]
        }
      ]
    },
    {
      "cell_type": "code",
      "source": [
        "page = '''\n",
        "<!DOCTYPE html>\n",
        "<html>\n",
        "<body>\n",
        "<h1>My Programming Links</h1>\n",
        "<a href=\"https://app.finxter.com/\">test your Python skills</a>\n",
        "<a href=\"https://blog.finxter.com/recursion/\">Learn recursion</a>\n",
        "<a href=\"https://nostarch.com/\">Great books from NoStarchPress</a>\n",
        "<a href=\"http://finxter.com/\">Solve more Python puzzles</a>\n",
        "</body>\n",
        "</html>\n",
        "'''\n",
        "## is looking for all occurences of the given characters with either test or puzzle\n",
        "practice_tests = re.findall(\"(<a.*?finxter.*?(test|puzzle).*?>)\", page)\n",
        "## Result\n",
        "print(practice_tests)"
      ],
      "metadata": {
        "colab": {
          "base_uri": "https://localhost:8080/"
        },
        "id": "PssQfiL6hEdI",
        "outputId": "5ed5e9c7-cb3f-45e7-a954-cf54e48a3b5a"
      },
      "execution_count": 7,
      "outputs": [
        {
          "output_type": "stream",
          "name": "stdout",
          "text": [
            "[('<a href=\"https://app.finxter.com/\">test your Python skills</a>', 'test'), ('<a href=\"http://finxter.com/\">Solve more Python puzzles</a>', 'puzzle')]\n"
          ]
        }
      ]
    },
    {
      "cell_type": "code",
      "source": [
        "# \\ is a way to escape\n",
        "# [] allows you to define a range ex) [0-9]\n",
        "# () groups the items and only returns what is in the ()\n",
        "string = 'helloworld'\n",
        "regex_1 = 'hello(world)'\n",
        "regex_2 = '(hello(world))'\n",
        "res_1 = re.findall(regex_1, string)\n",
        "res_2 = re.findall(regex_2, string)\n",
        "print(res_1)\n",
        "print(res_2)"
      ],
      "metadata": {
        "colab": {
          "base_uri": "https://localhost:8080/"
        },
        "id": "Y6o-UOtHhqyz",
        "outputId": "53031854-a350-4d7e-f3c3-ed117bddded3"
      },
      "execution_count": 8,
      "outputs": [
        {
          "output_type": "stream",
          "name": "stdout",
          "text": [
            "['world']\n",
            "[('helloworld', 'world')]\n"
          ]
        }
      ]
    },
    {
      "cell_type": "code",
      "source": [
        "report = '''\n",
        "If you invested $1 in the year 1801, you would have $18087791.41 today.\n",
        "This is a 7.967% return on investment.\n",
        "But if you invested only $0.25 in 1801, you would end up with $4521947.8525.\n",
        "'''\n",
        "## \\ escapes the $ regex character -> match the last character in the string\n",
        "# this uses list comprehension so that only the first value of findall is printed\n",
        "dollars = [x[0] for x in re.findall('(\\$[0-9]+(\\.[0-9]*)?)', report)]\n",
        "## Result\n",
        "print(dollars)"
      ],
      "metadata": {
        "colab": {
          "base_uri": "https://localhost:8080/"
        },
        "id": "N9ddEg46k1Gr",
        "outputId": "567082b9-a2bb-4299-ed67-dac7f8f5face"
      },
      "execution_count": 9,
      "outputs": [
        {
          "output_type": "stream",
          "name": "stdout",
          "text": [
            "['$1', '$18087791.41', '$0.25', '$4521947.8525']\n"
          ]
        }
      ]
    },
    {
      "cell_type": "code",
      "source": [
        "article = '''\n",
        "The algorithm has important practical applications\n",
        "http://blog.finxter.com/applications/\n",
        "in many basic data structures such as sets, trees,\n",
        "dictionaries, bags, bag trees, bag dictionaries,\n",
        "hash sets, https://blog.finxter.com/sets-in-python/\n",
        "hash tables, maps, and arrays. http://blog.finxter.com/\n",
        "http://not-a-valid-url\n",
        "http:/bla.ba.com\n",
        "http://bo.bo.bo.bo.bo.bo/\n",
        "http://bo.bo.bo.bo.bo.bo/333483--33343-/\n",
        "'''\n",
        "\n",
        "## One-Liner\n",
        "stale_links = re.findall('http://[a-z0-9_\\-.]+\\.[a-z0-9_\\-/]+', article)\n",
        "## Results\n",
        "print(stale_links)"
      ],
      "metadata": {
        "colab": {
          "base_uri": "https://localhost:8080/"
        },
        "id": "AIw6VLOhmUbd",
        "outputId": "6525d153-34f4-4ab2-ee5c-6c04078a71d4"
      },
      "execution_count": 10,
      "outputs": [
        {
          "output_type": "stream",
          "name": "stdout",
          "text": [
            "['http://blog.finxter.com/applications/', 'http://blog.finxter.com/', 'http://bo.bo.bo.bo.bo.bo/', 'http://bo.bo.bo.bo.bo.bo/333483--33343-/']\n"
          ]
        }
      ]
    },
    {
      "cell_type": "code",
      "source": [
        "#this will match the occurrences between {m,n}\n",
        "print(re.findall('x{3,5}y', 'xy'))\n",
        "print(re.findall('x{3,5}y', 'xxxy'))\n",
        "print(re.findall('x{3,5}y', 'xxxxxy'))\n",
        "print(re.findall('x{3,5}y', 'xxxxxxy'))"
      ],
      "metadata": {
        "colab": {
          "base_uri": "https://localhost:8080/"
        },
        "id": "jsME8QlhnBEt",
        "outputId": "2ef4d7eb-6421-4a33-9ad0-2e7e970ac84e"
      },
      "execution_count": 11,
      "outputs": [
        {
          "output_type": "stream",
          "name": "stdout",
          "text": [
            "[]\n",
            "['xxxy']\n",
            "['xxxxxy']\n",
            "['xxxxxy']\n"
          ]
        }
      ]
    },
    {
      "cell_type": "code",
      "source": [
        "inputs = ['18:29', '23:55', '123', 'ab:de', '18:299', '99:99']\n",
        "# checking if the values of input are between 0-9 in the format xx:xx\n",
        "input_ok = lambda x: re.fullmatch('[0-9]{2}:[0-9]{2}', x) != None\n",
        "## Result\n",
        "for x in inputs:\n",
        " print(input_ok(x))"
      ],
      "metadata": {
        "colab": {
          "base_uri": "https://localhost:8080/"
        },
        "id": "t-L7ZYbZneyt",
        "outputId": "fd4d159c-f6ed-4817-f3f6-ce211d01f49f"
      },
      "execution_count": 12,
      "outputs": [
        {
          "output_type": "stream",
          "name": "stdout",
          "text": [
            "True\n",
            "True\n",
            "False\n",
            "False\n",
            "False\n",
            "True\n"
          ]
        }
      ]
    },
    {
      "cell_type": "code",
      "source": [
        "inputs = ['18:29', '23:55', '123', 'ab:de', '18:299', '99:99']\n",
        "input_ok = lambda x: re.fullmatch('(1[0-9]|2[0-3]):[0-5][0-9]',x) != None\n",
        "for x in inputs:\n",
        " print(input_ok(x))"
      ],
      "metadata": {
        "colab": {
          "base_uri": "https://localhost:8080/"
        },
        "id": "8vjzIdseoXPG",
        "outputId": "4b42664c-594f-4486-8d03-59d0a617a345"
      },
      "execution_count": 13,
      "outputs": [
        {
          "output_type": "stream",
          "name": "stdout",
          "text": [
            "True\n",
            "True\n",
            "False\n",
            "False\n",
            "False\n",
            "False\n"
          ]
        }
      ]
    },
    {
      "cell_type": "code",
      "source": [
        "pattern = '(?P<quote>[\\'\"]).*(?P=quote)'\n",
        "text = 'She said \"hi\"'\n",
        "#searches for text surrounded in ' or \"\n",
        "print(re.search(pattern, text))"
      ],
      "metadata": {
        "colab": {
          "base_uri": "https://localhost:8080/"
        },
        "id": "Zq4v1AmzpXqi",
        "outputId": "28c99f77-2f81-4575-88f0-0adeb8e1e54c"
      },
      "execution_count": 14,
      "outputs": [
        {
          "output_type": "stream",
          "name": "stdout",
          "text": [
            "<re.Match object; span=(9, 13), match='\"hi\"'>\n"
          ]
        }
      ]
    },
    {
      "cell_type": "code",
      "source": [
        "text = '''\n",
        "It was a bright cold day in April, and the clocks were\n",
        "striking thirteen. Winston Smith, his chin nuzzled into\n",
        "his breast in an effort to escape the vile wind, slipped\n",
        "quickly through the glass doors of Victory Mansions,\n",
        "though not quickly enough to prevent a swirl of gritty\n",
        "dust from entering along with him.\n",
        "-- George Orwell, 1984\n",
        "'''\n",
        "# finds all occurrences of duplicates\n",
        "#\\s mathces arbitrary whitespace\n",
        "#[^\\s]* mathces an arbitrary of non-whitespace characters before and after the duplicate\n",
        "duplicates = re.findall('([^\\s]*(?P<x>[^\\s])(?P=x)[^\\s]*)', text)\n",
        "## Results\n",
        "print(duplicates)"
      ],
      "metadata": {
        "colab": {
          "base_uri": "https://localhost:8080/"
        },
        "id": "7yWK8Menp9h-",
        "outputId": "92ffae94-977a-4b2c-f429-9e8613425058"
      },
      "execution_count": 15,
      "outputs": [
        {
          "output_type": "stream",
          "name": "stdout",
          "text": [
            "[('thirteen.', 'e'), ('nuzzled', 'z'), ('effort', 'f'), ('slipped', 'p'), ('glass', 's'), ('doors', 'o'), ('gritty', 't'), ('--', '-'), ('Orwell,', 'l')]\n"
          ]
        }
      ]
    },
    {
      "cell_type": "code",
      "source": [
        "text = 'if you use words too often words become used'\n",
        "#starts and ends with whitespace, and checks between 0 and 10 words apart for duplicated words\n",
        "style_problems = re.search('\\s(?P<x>[a-z]+)\\s+([a-z]+\\s+){0,10}(?P=x)\\s', ' ' + text + ' ')\n",
        "## Results\n",
        "print(style_problems) "
      ],
      "metadata": {
        "colab": {
          "base_uri": "https://localhost:8080/"
        },
        "id": "a_yc5bxhq-gR",
        "outputId": "ca8224c9-d8a1-459e-f73d-82ec97760f4e"
      },
      "execution_count": 16,
      "outputs": [
        {
          "output_type": "stream",
          "name": "stdout",
          "text": [
            "<re.Match object; span=(11, 34), match=' words too often words '>\n"
          ]
        }
      ]
    },
    {
      "cell_type": "code",
      "source": [
        "text = '''\n",
        "Alice Wonderland married John Doe.\n",
        "The new name of former 'Alice Wonderland' is Alice Doe.\n",
        "Alice Wonderland replaces her old name 'Wonderland' with her new name 'Doe'.\n",
        "Alice's sister Jane Wonderland still keeps her old name.\n",
        "'''\n",
        "## One-Liner\n",
        "updated_text = re.sub(\"Alice Wonderland(?!')\", 'Alice Doe', text)\n",
        "print(updated_text)"
      ],
      "metadata": {
        "colab": {
          "base_uri": "https://localhost:8080/"
        },
        "id": "vXqfC999sIzG",
        "outputId": "b41fecfc-e3e6-4528-9076-0cf196d816a0"
      },
      "execution_count": 17,
      "outputs": [
        {
          "output_type": "stream",
          "name": "stdout",
          "text": [
            "\n",
            "Alice Doe married John Doe.\n",
            "The new name of former 'Alice Wonderland' is Alice Doe.\n",
            "Alice Doe replaces her old name 'Wonderland' with her new name 'Doe'.\n",
            "Alice's sister Jane Wonderland still keeps her old name.\n",
            "\n"
          ]
        }
      ]
    },
    {
      "cell_type": "code",
      "source": [
        "#Chapter 7 Sweigart\n",
        "#\\d stands for a digit character\n",
        "phoneNumRegex = re.compile(r'\\d\\d\\d-\\d\\d\\d-\\d\\d\\d\\d')\n",
        "mo = phoneNumRegex.search('My number is 415-555-4242.')\n",
        "print('Phone number found: ' + mo.group())"
      ],
      "metadata": {
        "colab": {
          "base_uri": "https://localhost:8080/"
        },
        "id": "HHFYV8DStA7k",
        "outputId": "efe7b939-018a-4b79-d0e5-4b54421098b3"
      },
      "execution_count": 18,
      "outputs": [
        {
          "output_type": "stream",
          "name": "stdout",
          "text": [
            "Phone number found: 415-555-4242\n"
          ]
        }
      ]
    },
    {
      "cell_type": "code",
      "source": [
        "#this should do the same as the above code\n",
        "phoneNumRegex = re.compile(r'(\\d){3}-(\\d){3}-(\\d){4}')\n",
        "mo = phoneNumRegex.search('My number is 415-555-4242.')\n",
        "print('Phone number found: ' + mo.group())"
      ],
      "metadata": {
        "colab": {
          "base_uri": "https://localhost:8080/"
        },
        "id": "y9T1xKWxtw63",
        "outputId": "de16458f-259f-4bfa-a196-fdd24a285f2b"
      },
      "execution_count": 20,
      "outputs": [
        {
          "output_type": "stream",
          "name": "stdout",
          "text": [
            "Phone number found: 415-555-4242\n"
          ]
        }
      ]
    },
    {
      "cell_type": "code",
      "source": [
        "#great example that () create groups in regex\n",
        "phoneNumRegex = re.compile(r'(\\d\\d\\d)-(\\d\\d\\d-\\d\\d\\d\\d)')\n",
        "mo = phoneNumRegex.search('My number is 415-555-4242.')\n",
        "print(mo.group(1))\n",
        "print(mo.group(2))\n",
        "print(mo.group(0))\n",
        "print(mo.group())\n",
        "print('----------------')\n",
        "#mo.group returns a tuple of multiple values so this is just assigning each to a var\n",
        "areaCode, mainNumber = mo.groups()\n",
        "print(areaCode)\n",
        "print(mainNumber)"
      ],
      "metadata": {
        "colab": {
          "base_uri": "https://localhost:8080/"
        },
        "id": "JRPY0X-eEfTN",
        "outputId": "0b8a2382-91eb-44d6-92c7-c7c958ee2e7a"
      },
      "execution_count": 24,
      "outputs": [
        {
          "output_type": "stream",
          "name": "stdout",
          "text": [
            "415\n",
            "555-4242\n",
            "415-555-4242\n",
            "415-555-4242\n",
            "----------------\n",
            "415\n",
            "555-4242\n"
          ]
        }
      ]
    },
    {
      "cell_type": "code",
      "source": [
        "phoneNumRegex = re.compile(r'(\\(\\d\\d\\d\\)) (\\d\\d\\d-\\d\\d\\d\\d)')\n",
        "mo = phoneNumRegex.search('My phone number is (415) 555-4242.')\n",
        "print(mo.group(1))\n",
        "print(mo.group(2))\n",
        "# . ^ $ * + ? { } [ ] \\ | ( ) all have special meanings so if you want to use them you have to use the escape \\"
      ],
      "metadata": {
        "colab": {
          "base_uri": "https://localhost:8080/"
        },
        "id": "k4XyY5wFFku0",
        "outputId": "93134906-fb24-4af7-b83e-99b3d137b2a6"
      },
      "execution_count": 28,
      "outputs": [
        {
          "output_type": "stream",
          "name": "stdout",
          "text": [
            "(415)\n",
            "555-4242\n"
          ]
        }
      ]
    },
    {
      "cell_type": "code",
      "source": [
        "#searching for first occurence of batman or tina fey\n",
        "heroRegex = re.compile (r'Batman|Tina Fey')\n",
        "mo1 = heroRegex.search('Batman and Tina Fey')\n",
        "print(mo1.group())\n",
        "mo2 = heroRegex.search('Tina Fey and Batman')\n",
        "print(mo2.group())"
      ],
      "metadata": {
        "colab": {
          "base_uri": "https://localhost:8080/"
        },
        "id": "280BafxVGGxe",
        "outputId": "9ef8c8b0-fd36-4c5f-b0de-373c9c99f3d4"
      },
      "execution_count": 27,
      "outputs": [
        {
          "output_type": "stream",
          "name": "stdout",
          "text": [
            "Batman\n",
            "Tina Fey\n"
          ]
        }
      ]
    },
    {
      "cell_type": "code",
      "source": [
        "batRegex = re.compile(r'Bat(man|mobile|copter|bat)')\n",
        "mo = batRegex.search('Batmobile lost a wheel')\n",
        "print(mo.group())\n",
        "print(mo.group(1))"
      ],
      "metadata": {
        "colab": {
          "base_uri": "https://localhost:8080/"
        },
        "id": "H9YFpe3DGrbg",
        "outputId": "6d5f6b5f-c623-449b-b3c7-e0106a6e4865"
      },
      "execution_count": 29,
      "outputs": [
        {
          "output_type": "stream",
          "name": "stdout",
          "text": [
            "Batmobile\n",
            "mobile\n"
          ]
        }
      ]
    },
    {
      "cell_type": "code",
      "source": [
        "# remember the ? means optional\n",
        "batRegex = re.compile(r'Bat(wo)?man')\n",
        "mo1 = batRegex.search('The Adventures of Batman')\n",
        "print(mo1.group())\n",
        "mo2 = batRegex.search('The Adventures of Batwoman')\n",
        "print(mo2.group())"
      ],
      "metadata": {
        "colab": {
          "base_uri": "https://localhost:8080/"
        },
        "id": "W1EnmsFEG-kA",
        "outputId": "7bc67714-4e5f-48ce-8440-20e0f1817c52"
      },
      "execution_count": 30,
      "outputs": [
        {
          "output_type": "stream",
          "name": "stdout",
          "text": [
            "Batman\n",
            "Batwoman\n"
          ]
        }
      ]
    },
    {
      "cell_type": "code",
      "source": [
        "phoneRegex = re.compile(r'(\\d\\d\\d-)?\\d\\d\\d-\\d\\d\\d\\d')\n",
        "mo1 = phoneRegex.search('My number is 415-555-4242')\n",
        "print(mo1.group())\n",
        "mo2 = phoneRegex.search('My number is 555-4242')\n",
        "print(mo2.group())"
      ],
      "metadata": {
        "colab": {
          "base_uri": "https://localhost:8080/"
        },
        "id": "WKG5pqJCHQDh",
        "outputId": "44d71470-982b-4d10-98f4-016981ff4af3"
      },
      "execution_count": 31,
      "outputs": [
        {
          "output_type": "stream",
          "name": "stdout",
          "text": [
            "415-555-4242\n",
            "555-4242\n"
          ]
        }
      ]
    },
    {
      "cell_type": "code",
      "source": [
        "# * match zero or more\n",
        "batRegex = re.compile(r'Bat(wo)*man')\n",
        "mo1 = batRegex.search('The Adventures of Batman')\n",
        "print(mo1.group())\n",
        "mo2 = batRegex.search('The Adventures of Batwoman')\n",
        "print(mo2.group())\n",
        "mo3 = batRegex.search('The Adventures of Batwowowowoman')\n",
        "print(mo3.group())"
      ],
      "metadata": {
        "colab": {
          "base_uri": "https://localhost:8080/"
        },
        "id": "YMjRlGuMHdOG",
        "outputId": "9a923803-4e5e-4fcf-8c1c-bbdb958a9c52"
      },
      "execution_count": 34,
      "outputs": [
        {
          "output_type": "stream",
          "name": "stdout",
          "text": [
            "Batman\n",
            "Batwoman\n",
            "Batwowowowoman\n"
          ]
        }
      ]
    },
    {
      "cell_type": "code",
      "source": [
        "#+ match one or more\n",
        "batRegex = re.compile(r'Bat(wo)+man')\n",
        "mo1 = batRegex.search('The Adventures of Batwoman')\n",
        "print(mo1.group())\n",
        "mo2 = batRegex.search('The Adventures of Batwowowowoman')\n",
        "print(mo2.group())\n",
        "mo3 = batRegex.search('The Adventures of Batman')\n",
        "mo3 == None"
      ],
      "metadata": {
        "colab": {
          "base_uri": "https://localhost:8080/"
        },
        "id": "q08sgzPNH_dc",
        "outputId": "048500ad-c919-4401-b3de-e9bd55169880"
      },
      "execution_count": 35,
      "outputs": [
        {
          "output_type": "stream",
          "name": "stdout",
          "text": [
            "Batwoman\n",
            "Batwowowowoman\n"
          ]
        },
        {
          "output_type": "execute_result",
          "data": {
            "text/plain": [
              "True"
            ]
          },
          "metadata": {},
          "execution_count": 35
        }
      ]
    },
    {
      "cell_type": "code",
      "source": [
        "#(Ha){3,5} includes -> ((Ha)(Ha)(Ha))|((Ha)(Ha)(Ha)(Ha))|((Ha)(Ha)(Ha)(Ha)(Ha))\n",
        "haRegex = re.compile(r'(Ha){3}')\n",
        "mo1 = haRegex.search('HaHaHa')\n",
        "print(mo1.group())\n",
        "mo2 = haRegex.search('Ha')\n",
        "mo2 == None"
      ],
      "metadata": {
        "colab": {
          "base_uri": "https://localhost:8080/"
        },
        "id": "SX1Wi8OrISlq",
        "outputId": "78ba7832-b1ac-418d-ef18-4b1a213ea1f2"
      },
      "execution_count": 37,
      "outputs": [
        {
          "output_type": "stream",
          "name": "stdout",
          "text": [
            "HaHaHa\n"
          ]
        },
        {
          "output_type": "execute_result",
          "data": {
            "text/plain": [
              "True"
            ]
          },
          "metadata": {},
          "execution_count": 37
        }
      ]
    },
    {
      "cell_type": "code",
      "source": [
        "#greedy means that in ambiguous situations they will match the longest string possible\n",
        "#nongreedy mathces the smallest possible\n",
        "greedyHaRegex = re.compile(r'(Ha){3,5}')\n",
        "mo1 = greedyHaRegex.search('HaHaHaHaHa')\n",
        "print(mo1.group())\n",
        "nongreedyHaRegex = re.compile(r'(Ha){3,5}?')\n",
        "mo2 = nongreedyHaRegex.search('HaHaHaHaHa')\n",
        "print(mo2.group())"
      ],
      "metadata": {
        "colab": {
          "base_uri": "https://localhost:8080/"
        },
        "id": "VHZfYo10Imj8",
        "outputId": "afb908b0-21a7-4b49-be8e-40e73ac92b7d"
      },
      "execution_count": 39,
      "outputs": [
        {
          "output_type": "stream",
          "name": "stdout",
          "text": [
            "HaHaHaHaHa\n",
            "HaHaHa\n"
          ]
        }
      ]
    },
    {
      "cell_type": "code",
      "source": [
        "#search only would've shown the first number\n",
        "phoneNumRegex = re.compile(r'\\d\\d\\d-\\d\\d\\d-\\d\\d\\d\\d') # has no groups\n",
        "print(phoneNumRegex.findall('Cell: 415-555-9999 Work: 212-555-0000'))\n",
        "\n",
        "phoneNumRegex = re.compile(r'(\\d\\d\\d)-(\\d\\d\\d)-(\\d\\d\\d\\d)') # has groups\n",
        "print(phoneNumRegex.findall('Cell: 415-555-9999 Work: 212-555-0000'))"
      ],
      "metadata": {
        "colab": {
          "base_uri": "https://localhost:8080/"
        },
        "id": "xZCDFSuWJHCi",
        "outputId": "7cd16969-afaf-4c54-8043-05aa6b4e2e55"
      },
      "execution_count": 43,
      "outputs": [
        {
          "output_type": "stream",
          "name": "stdout",
          "text": [
            "['415-555-9999', '212-555-0000']\n",
            "[('415', '555', '9999'), ('212', '555', '0000')]\n"
          ]
        }
      ]
    },
    {
      "cell_type": "code",
      "source": [
        "# \\d digit 0-9\n",
        "# \\D any character that is not a numeric digit 0-9\n",
        "# \\w any letter, digit, or underscore char\n",
        "# \\W any character that is not a letter, digit, or underscore char\n",
        "# \\s any space, newline, tab\n",
        "# \\S any character that is not space, newline, tab\n",
        "\n",
        "xmasRegex = re.compile(r'\\d+\\s\\w+')\n",
        "xmasRegex.findall('12 drummers, 11 pipers, 10 lords, 9 ladies, 8 maids, 7 swans, 6 geese, 5 rings, 4 birds, 3 hens, 2 doves, 1 partridge')"
      ],
      "metadata": {
        "colab": {
          "base_uri": "https://localhost:8080/"
        },
        "id": "eAFGRghOJS8a",
        "outputId": "b05ec5e3-829f-4b1a-f88b-af31f398e767"
      },
      "execution_count": 44,
      "outputs": [
        {
          "output_type": "execute_result",
          "data": {
            "text/plain": [
              "['12 drummers',\n",
              " '11 pipers',\n",
              " '10 lords',\n",
              " '9 ladies',\n",
              " '8 maids',\n",
              " '7 swans',\n",
              " '6 geese',\n",
              " '5 rings',\n",
              " '4 birds',\n",
              " '3 hens',\n",
              " '2 doves',\n",
              " '1 partridge']"
            ]
          },
          "metadata": {},
          "execution_count": 44
        }
      ]
    },
    {
      "cell_type": "code",
      "source": [
        "vowelRegex = re.compile(r'[aeiouAEIOU]')\n",
        "vowelRegex.findall('RoboCop eats baby food. BABY FOOD.')"
      ],
      "metadata": {
        "colab": {
          "base_uri": "https://localhost:8080/"
        },
        "id": "WHsr0MprKcuW",
        "outputId": "b946c598-322a-4103-cc12-a6e170296c4d"
      },
      "execution_count": 47,
      "outputs": [
        {
          "output_type": "execute_result",
          "data": {
            "text/plain": [
              "['o', 'o', 'o', 'e', 'a', 'a', 'o', 'o', 'A', 'O', 'O']"
            ]
          },
          "metadata": {},
          "execution_count": 47
        }
      ]
    },
    {
      "cell_type": "code",
      "source": [
        "# ^ is a negative class character\n",
        "consonantRegex = re.compile(r'[^aeiouAEIOU]')\n",
        "consonantRegex.findall('RoboCop eats baby food. BABY FOOD.')"
      ],
      "metadata": {
        "colab": {
          "base_uri": "https://localhost:8080/"
        },
        "id": "Ew7GNNgHKpS3",
        "outputId": "8d2987be-178a-4120-e722-61ece67bafd5"
      },
      "execution_count": 49,
      "outputs": [
        {
          "output_type": "execute_result",
          "data": {
            "text/plain": [
              "['R',\n",
              " 'b',\n",
              " 'C',\n",
              " 'p',\n",
              " ' ',\n",
              " 't',\n",
              " 's',\n",
              " ' ',\n",
              " 'b',\n",
              " 'b',\n",
              " 'y',\n",
              " ' ',\n",
              " 'f',\n",
              " 'd',\n",
              " '.',\n",
              " ' ',\n",
              " 'B',\n",
              " 'B',\n",
              " 'Y',\n",
              " ' ',\n",
              " 'F',\n",
              " 'D',\n",
              " '.']"
            ]
          },
          "metadata": {},
          "execution_count": 49
        }
      ]
    },
    {
      "cell_type": "code",
      "source": [
        "# indicates that the match must occur at the beginning of the string\n",
        "beginsWithHello = re.compile(r'^Hello')\n",
        "print(beginsWithHello.search('Hello, world!'))\n",
        "beginsWithHello.search('He said hello.') == None"
      ],
      "metadata": {
        "colab": {
          "base_uri": "https://localhost:8080/"
        },
        "id": "hetVasY0KumQ",
        "outputId": "0adf36ae-530c-41a3-edce-2bd7529ed56b"
      },
      "execution_count": 53,
      "outputs": [
        {
          "output_type": "stream",
          "name": "stdout",
          "text": [
            "<re.Match object; span=(0, 5), match='Hello'>\n"
          ]
        },
        {
          "output_type": "execute_result",
          "data": {
            "text/plain": [
              "True"
            ]
          },
          "metadata": {},
          "execution_count": 53
        }
      ]
    },
    {
      "cell_type": "code",
      "source": [
        "# $ indicates that the match must occur at the end of the string\n",
        "endsWithNumber = re.compile(r'\\d$')\n",
        "print(endsWithNumber.search('Your number is 42'))\n",
        "endsWithNumber.search('Your number is forty two.') == None"
      ],
      "metadata": {
        "colab": {
          "base_uri": "https://localhost:8080/"
        },
        "id": "Op8a855yLG7m",
        "outputId": "05b28126-6cac-4c10-8e5b-594e8dcaf8ff"
      },
      "execution_count": 54,
      "outputs": [
        {
          "output_type": "stream",
          "name": "stdout",
          "text": [
            "<re.Match object; span=(16, 17), match='2'>\n"
          ]
        },
        {
          "output_type": "execute_result",
          "data": {
            "text/plain": [
              "True"
            ]
          },
          "metadata": {},
          "execution_count": 54
        }
      ]
    },
    {
      "cell_type": "code",
      "source": [
        "#matches strings that both begin and end with one or more numeric characters\n",
        "wholeStringIsNum = re.compile(r'^\\d+$')\n",
        "print(wholeStringIsNum.search('1234567890'))\n",
        "wholeStringIsNum.search('12345xyz67890') == None\n",
        "wholeStringIsNum.search('12 34567890') == None"
      ],
      "metadata": {
        "colab": {
          "base_uri": "https://localhost:8080/"
        },
        "id": "C3QJdiKiLpX7",
        "outputId": "c879082a-e00d-4f03-d4e1-698a2b17711b"
      },
      "execution_count": 56,
      "outputs": [
        {
          "output_type": "stream",
          "name": "stdout",
          "text": [
            "<re.Match object; span=(0, 10), match='1234567890'>\n"
          ]
        },
        {
          "output_type": "execute_result",
          "data": {
            "text/plain": [
              "True"
            ]
          },
          "metadata": {},
          "execution_count": 56
        }
      ]
    },
    {
      "cell_type": "code",
      "source": [
        "# a match any character except a newline\n",
        "atRegex = re.compile(r'.at')\n",
        "atRegex.findall('The cat in the hat sat on the flat mat.')"
      ],
      "metadata": {
        "colab": {
          "base_uri": "https://localhost:8080/"
        },
        "id": "dJSqYp-lMIKX",
        "outputId": "b1b6a830-05e1-4ed4-f04f-1b4a58acdd3e"
      },
      "execution_count": 57,
      "outputs": [
        {
          "output_type": "execute_result",
          "data": {
            "text/plain": [
              "['cat', 'hat', 'sat', 'lat', 'mat']"
            ]
          },
          "metadata": {},
          "execution_count": 57
        }
      ]
    },
    {
      "cell_type": "code",
      "source": [
        "nameRegex = re.compile(r'First Name: (.*) Last Name: (.*)')\n",
        "mo = nameRegex.search('First Name: Al Last Name: Sweigart')\n",
        "print(mo.group(1))\n",
        "print(mo.group(2))"
      ],
      "metadata": {
        "colab": {
          "base_uri": "https://localhost:8080/"
        },
        "id": "miCYh07UMUjE",
        "outputId": "0330b5b4-5541-46b0-e13e-96e35f97066d"
      },
      "execution_count": 58,
      "outputs": [
        {
          "output_type": "stream",
          "name": "stdout",
          "text": [
            "Al\n",
            "Sweigart\n"
          ]
        }
      ]
    },
    {
      "cell_type": "code",
      "source": [
        "nongreedyRegex = re.compile(r'<.*?>')\n",
        "mo = nongreedyRegex.search('<To serve man> for dinner.>')\n",
        "print(mo.group())\n",
        "greedyRegex = re.compile(r'<.*>')\n",
        "mo = greedyRegex.search('<To serve man> for dinner.>')\n",
        "print(mo.group())"
      ],
      "metadata": {
        "colab": {
          "base_uri": "https://localhost:8080/"
        },
        "id": "tj2tDGiFMibn",
        "outputId": "e65735ba-d524-496b-b76d-cf42a43571b7"
      },
      "execution_count": 59,
      "outputs": [
        {
          "output_type": "stream",
          "name": "stdout",
          "text": [
            "<To serve man>\n",
            "<To serve man> for dinner.>\n"
          ]
        }
      ]
    },
    {
      "cell_type": "code",
      "source": [
        "noNewlineRegex = re.compile('.*')\n",
        "print(noNewlineRegex.search('Serve the public trust.\\nProtect the innocent.\\nUphold the law.').group())\n",
        "print(\"-----------\")\n",
        "newlineRegex = re.compile('.*', re.DOTALL)\n",
        "print(newlineRegex.search('Serve the public trust.\\nProtect the innocent.\\nUphold the law.').group())"
      ],
      "metadata": {
        "colab": {
          "base_uri": "https://localhost:8080/"
        },
        "id": "JiI1Cm-9Mwop",
        "outputId": "f79a4f6d-5ab4-4b32-b0e3-2e0428327803"
      },
      "execution_count": 62,
      "outputs": [
        {
          "output_type": "stream",
          "name": "stdout",
          "text": [
            "Serve the public trust.\n",
            "-----------\n",
            "Serve the public trust.\n",
            "Protect the innocent.\n",
            "Uphold the law.\n"
          ]
        }
      ]
    },
    {
      "cell_type": "code",
      "source": [
        "#pass re.IGNORECASE or re.I as a second argument to re.compile() to make it caseinsensitive\n",
        "robocop = re.compile(r'robocop', re.I)\n",
        "print(robocop.search('RoboCop is part man, part machine, all cop.').group())\n",
        "print(robocop.search('ROBOCOP protects the innocent.').group())\n",
        "print(robocop.search('Al, why does your programming book talk about robocop so much?').group())"
      ],
      "metadata": {
        "colab": {
          "base_uri": "https://localhost:8080/"
        },
        "id": "SNq_obhgNx-0",
        "outputId": "f6155a5a-97b4-4561-cf2d-31fc1e936823"
      },
      "execution_count": 64,
      "outputs": [
        {
          "output_type": "stream",
          "name": "stdout",
          "text": [
            "RoboCop\n",
            "ROBOCOP\n",
            "robocop\n"
          ]
        }
      ]
    },
    {
      "cell_type": "code",
      "source": [
        "namesRegex = re.compile(r'Agent \\w+')\n",
        "namesRegex.sub('CENSORED', 'Agent Alice gave the secret documents to Agent Bob.')\n"
      ],
      "metadata": {
        "colab": {
          "base_uri": "https://localhost:8080/",
          "height": 35
        },
        "id": "V7gsw938OURW",
        "outputId": "2e93e09b-8d1d-4a08-9ccc-2a45b17d29e9"
      },
      "execution_count": 65,
      "outputs": [
        {
          "output_type": "execute_result",
          "data": {
            "text/plain": [
              "'CENSORED gave the secret documents to CENSORED.'"
            ],
            "application/vnd.google.colaboratory.intrinsic+json": {
              "type": "string"
            }
          },
          "metadata": {},
          "execution_count": 65
        }
      ]
    },
    {
      "cell_type": "code",
      "source": [
        "# the first group is the first letter after Agent\n",
        "agentNamesRegex = re.compile(r'Agent (\\w)\\w*')\n",
        "agentNamesRegex.sub(r'\\1****', 'Agent Alice told Agent Carol that Agent Eve knew Agent Bob was a double agent.')\n"
      ],
      "metadata": {
        "colab": {
          "base_uri": "https://localhost:8080/",
          "height": 35
        },
        "id": "vz-PzKAQOjX6",
        "outputId": "d6c6552e-e67d-4a2d-a30d-e87fddb0dbd9"
      },
      "execution_count": 67,
      "outputs": [
        {
          "output_type": "execute_result",
          "data": {
            "text/plain": [
              "'A**** told C**** that E**** knew B**** was a double agent.'"
            ],
            "application/vnd.google.colaboratory.intrinsic+json": {
              "type": "string"
            }
          },
          "metadata": {},
          "execution_count": 67
        }
      ]
    },
    {
      "cell_type": "code",
      "source": [
        "# re.VERBOSE allows for more complicated lines to be read\n",
        "phoneRegex = re.compile(r'''(\n",
        "    (\\d{3}|\\(\\d{3}\\))?\n",
        "    (\\s|-|\\.)?\n",
        "    \\d{3}\n",
        "    (\\s|-|\\.)\n",
        "    \\d{4}\n",
        "    (\\s*(ext|x|ext.)\\s*\\d{2,5})?\n",
        "    )''', re.VERBOSE)"
      ],
      "metadata": {
        "id": "vWVCeS99O6BS"
      },
      "execution_count": 72,
      "outputs": []
    }
  ]
}